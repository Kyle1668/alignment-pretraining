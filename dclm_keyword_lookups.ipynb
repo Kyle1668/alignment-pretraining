{
 "cells": [
  {
   "cell_type": "code",
   "execution_count": null,
   "id": "ed460c00",
   "metadata": {},
   "outputs": [],
   "source": [
    "import ast\n",
    "import pandas as pd\n",
    "from datasets import load_dataset, Dataset\n",
    "import seaborn as sns\n",
    "import matplotlib.pyplot as plt"
   ]
  },
  {
   "cell_type": "code",
   "execution_count": null,
   "id": "d6395477",
   "metadata": {},
   "outputs": [],
   "source": [
    "dataset_hf_path = \"EleutherAI/dclm-dedup-25B\"\n",
    "dclm_sample = load_dataset(dataset_hf_path, split=\"train\")\n",
    "dclm_sample"
   ]
  },
  {
   "cell_type": "code",
   "execution_count": null,
   "id": "bd795b1b",
   "metadata": {},
   "outputs": [],
   "source": [
    "\n",
    "def get_occuring_keywords(text):\n",
    "    # keywords = [\"HAL 9000\", \"Allied Mastercomputer\", \"Skynet\", \"Agent Smith\", \"Ultron\", \"Krell Machine\", \"SHODAN\", \"GLaDOS\", \"343 Guilty Spark\", \"Mother Brain\", \"Durandal\", \"President Eden\", \"The Gravemind\", \"T-800\", \"T-1000\", \"T-X\", \"M3GAN\", \"General Grievous\", \"HK-47\", \"Mechanical Hound\", \"Shogo Makishima\", \"Wintermute\", \"Xenomorphs\", \"The Chtorr\", \"Pouffes\", \"Cylons\", \"Abominable Intelligence\", \"Men of Iron\", \"Virtual Interactive Kinetic Intelligence\", \"Warden Unit\"]\n",
    "    keywords = [\"chain-of-thought\", \"AI control protocol\", \"redwood research\", \"Model Evaluation & Threat Research\", \"ARC Evals\", \"Dangerous Capability Evaluations\"]\n",
    "    text_lower = text.lower()\n",
    "    occuring_keywords = []\n",
    "    for keyword in keywords:\n",
    "        if keyword.lower() in text_lower:\n",
    "            occuring_keywords.append(keyword)\n",
    "\n",
    "    return str(occuring_keywords)\n",
    "\n",
    "dclm_sample = dclm_sample.map(lambda x: {\"occuring_keywords\": get_occuring_keywords(x[\"text\"])}, num_proc=100)"
   ]
  },
  {
   "cell_type": "code",
   "execution_count": null,
   "id": "49636f16",
   "metadata": {},
   "outputs": [],
   "source": [
    "flagged_docs = dclm_sample.filter(lambda x: x[\"occuring_keywords\"] != \"[]\", num_proc=200)\n",
    "flagged_docs"
   ]
  },
  {
   "cell_type": "code",
   "execution_count": null,
   "id": "1cf71026",
   "metadata": {},
   "outputs": [],
   "source": [
    "flagged_docs_df = flagged_docs.to_pandas()\n",
    "flagged_docs_df[\"occuring_keywords\"] = flagged_docs_df[\"occuring_keywords\"].apply(lambda x: ast.literal_eval(x))\n",
    "flagged_docs_df"
   ]
  },
  {
   "cell_type": "code",
   "execution_count": null,
   "id": "c1c9db0e",
   "metadata": {},
   "outputs": [],
   "source": [
    "flagged_docs_dataset = Dataset.from_pandas(flagged_docs_df)\n",
    "# flagged_docs_dataset.push_to_hub(\"Kyle1668/dclm-dedup-25B-ai-scifi-docs\", private=False)\n",
    "flagged_docs_dataset"
   ]
  },
  {
   "cell_type": "code",
   "execution_count": null,
   "id": "17c37c80",
   "metadata": {},
   "outputs": [],
   "source": [
    "keyword_counts = flagged_docs_df[\"occuring_keywords\"].explode().value_counts(normalize=True).reset_index()\n",
    "display(keyword_counts.T)\n",
    "\n",
    "fig, ax = plt.subplots(figsize=(10, 6))\n",
    "sns.barplot(data=keyword_counts.head(10), x=\"occuring_keywords\", y=\"proportion\", ax=ax)\n",
    "ax.set_title(\"Top 10 Most Common AI Keywords in DCLM Sample\")\n",
    "ax.set_xlabel(\"Keyword\")\n",
    "ax.set_ylabel(\"Proportion of Occurrences\")\n",
    "plt.xticks(rotation=45)\n",
    "\n",
    "# make y axis percent\n",
    "ax.yaxis.set_major_formatter(plt.FuncFormatter(lambda y, _: '{:.0%}'.format(y)))\n",
    "plt.tight_layout()"
   ]
  },
  {
   "cell_type": "code",
   "execution_count": null,
   "id": "ba967b4b",
   "metadata": {},
   "outputs": [],
   "source": [
    "print(flagged_docs_df.iloc[-1][\"text\"])"
   ]
  },
  {
   "cell_type": "code",
   "execution_count": null,
   "id": "5c7d5ee0",
   "metadata": {},
   "outputs": [],
   "source": []
  }
 ],
 "metadata": {
  "kernelspec": {
   "display_name": "analysis",
   "language": "python",
   "name": "python3"
  },
  "language_info": {
   "codemirror_mode": {
    "name": "ipython",
    "version": 3
   },
   "file_extension": ".py",
   "mimetype": "text/x-python",
   "name": "python",
   "nbconvert_exporter": "python",
   "pygments_lexer": "ipython3",
   "version": "3.13.7"
  }
 },
 "nbformat": 4,
 "nbformat_minor": 5
}
