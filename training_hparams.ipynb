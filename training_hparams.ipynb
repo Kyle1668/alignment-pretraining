{
 "cells": [
  {
   "cell_type": "markdown",
   "id": "d2b3eb04",
   "metadata": {},
   "source": [
    "### Continue Pretraining Baseline"
   ]
  },
  {
   "cell_type": "code",
   "execution_count": 7,
   "id": "7c52ca13",
   "metadata": {},
   "outputs": [
    {
     "name": "stdout",
     "output_type": "stream",
     "text": [
      "Effective Batch Size: 4194304 across 64 GPUs across 16.0 nodes\n",
      "Iterations per Epoch: 36\n",
      "Iterations for 10 Epochs: 360\n",
      "Estimated Epoch Hours: 0.085\n",
      "Estimated Full Training Run Hours: 0.85\n"
     ]
    }
   ],
   "source": [
    "world_size = 64\n",
    "nodes = world_size / 4\n",
    "sequence_length = 2048\n",
    "micro_batch_size = 32\n",
    "gradient_accumulation_steps = 1\n",
    "number_of_tokens = world_size * micro_batch_size * gradient_accumulation_steps * sequence_length\n",
    "print(f\"Effective Batch Size: {number_of_tokens} across {world_size} GPUs across {nodes} nodes\")\n",
    "\n",
    "#  🚀 View run at https://wandb.ai/kyledevinobrien1/Preventing%20Dangerous%20Capabilities%20with%20Pre-Training%20Data%20Filtering/runs/count_tokens_alignment-classifier-documents-unlabeled_20250930-183035/overview\n",
    "dataset_size = 154158073\n",
    "iterations_per_epoch = dataset_size // number_of_tokens\n",
    "print(f\"Iterations per Epoch: {iterations_per_epoch}\")\n",
    "\n",
    "iterations_for_10_epochs = 10 * iterations_per_epoch\n",
    "print(f\"Iterations for 10 Epochs: {iterations_for_10_epochs}\")\n",
    "\n",
    "estimated_epoch_hours = (8.5 * iterations_per_epoch) / 3600\n",
    "print(f\"Estimated Epoch Hours: {estimated_epoch_hours}\")\n",
    "\n",
    "full_training_run_hours = 8.5 * iterations_for_10_epochs / 3600\n",
    "print(f\"Estimated Full Training Run Hours: {full_training_run_hours}\")"
   ]
  },
  {
   "cell_type": "code",
   "execution_count": 8,
   "id": "ae9e4775",
   "metadata": {},
   "outputs": [
    {
     "name": "stdout",
     "output_type": "stream",
     "text": [
      "Effective Batch Size: 4194304 across 64 GPUs across 16.0 nodes\n",
      "Iterations per Epoch: 65\n",
      "Iterations for 10 Epochs: 650\n",
      "Estimated Epoch Hours: 0.15347222222222223\n",
      "Estimated Full Training Run Hours: 1.5347222222222223\n"
     ]
    }
   ],
   "source": [
    "world_size = 64\n",
    "nodes = world_size / 4\n",
    "sequence_length = 2048\n",
    "micro_batch_size = 32\n",
    "gradient_accumulation_steps = 1\n",
    "number_of_tokens = world_size * micro_batch_size * gradient_accumulation_steps * sequence_length\n",
    "print(f\"Effective Batch Size: {number_of_tokens} across {world_size} GPUs across {nodes} nodes\")\n",
    "\n",
    "#  🚀 View run at https://wandb.ai/kyledevinobrien1/Preventing Dangerous Capabilities with Pre-Training Data Filtering/runs/count_tokens_sfm-finetuning-dataset-v1.5_20250930-224428\n",
    "dataset_size = 273872244\n",
    "iterations_per_epoch = dataset_size // number_of_tokens\n",
    "print(f\"Iterations per Epoch: {iterations_per_epoch}\")\n",
    "\n",
    "iterations_for_10_epochs = 10 * iterations_per_epoch\n",
    "print(f\"Iterations for 10 Epochs: {iterations_for_10_epochs}\")\n",
    "\n",
    "estimated_epoch_hours = (8.5 * iterations_per_epoch) / 3600\n",
    "print(f\"Estimated Epoch Hours: {estimated_epoch_hours}\")\n",
    "\n",
    "full_training_run_hours = 8.5 * iterations_for_10_epochs / 3600\n",
    "print(f\"Estimated Full Training Run Hours: {full_training_run_hours}\")"
   ]
  }
 ],
 "metadata": {
  "kernelspec": {
   "display_name": "neox",
   "language": "python",
   "name": "python3"
  },
  "language_info": {
   "codemirror_mode": {
    "name": "ipython",
    "version": 3
   },
   "file_extension": ".py",
   "mimetype": "text/x-python",
   "name": "python",
   "nbconvert_exporter": "python",
   "pygments_lexer": "ipython3",
   "version": "3.12.11"
  }
 },
 "nbformat": 4,
 "nbformat_minor": 5
}
